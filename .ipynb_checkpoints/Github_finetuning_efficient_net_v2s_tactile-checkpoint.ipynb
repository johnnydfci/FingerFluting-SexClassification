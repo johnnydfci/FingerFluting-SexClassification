{
 "cells": [
  {
   "cell_type": "markdown",
   "metadata": {
    "colab_type": "text",
    "id": "jEy3twDT7p1Y"
   },
   "source": [
    "####**Exploring train dataset** "
   ]
  },
  {
   "cell_type": "code",
   "execution_count": null,
   "metadata": {
    "colab": {
     "base_uri": "https://localhost:8080/",
     "height": 677
    },
    "colab_type": "code",
    "id": "SqJYlEhzllaO",
    "outputId": "0ed19ff8-dc77-494a-c994-08f779369390"
   },
   "outputs": [],
   "source": [
    "import os\n",
    "\n",
    "def list_files(startpath):\n",
    "    for root, dirs, files in os.walk(startpath):\n",
    "        level = root.replace(startpath, '').count(os.sep)\n",
    "        indent = ' ' * 4 * (level)\n",
    "        print('{}{}/'.format(indent, os.path.basename(root)))\n",
    "        subindent = ' ' * 4 * (level + 1)\n",
    "        n = 0\n",
    "        for f in files:\n",
    "            n = n+1\n",
    "            if n>5:\n",
    "                print('{}{}'.format(subindent, f),end = \"  ...... \\n\")\n",
    "                break\n",
    "            print('{}{}'.format(subindent, f))\n",
    "\n",
    "img_dir = 'tactile_img/'\n",
    "list_files(\"tactile_img/\")"
   ]
  },
  {
   "cell_type": "code",
   "execution_count": null,
   "metadata": {
    "colab": {
     "base_uri": "https://localhost:8080/",
     "height": 545
    },
    "colab_type": "code",
    "id": "6PKJoktM5gSl",
    "outputId": "1b4bc527-31f1-4b1b-d135-7b9d5f790df3"
   },
   "outputs": [],
   "source": [
    "import cv2\n",
    "import matplotlib.pyplot as plt\n",
    "\n",
    "PATH_TRAIN =  os.path.join(img_dir, 'TRAIN')\n",
    "\n",
    "PATH_TEST = os.path.join(img_dir, 'TEST')\n",
    "\n",
    "normal_sample = cv2.imread(PATH_TRAIN+\"/FEMALE/\"+os.listdir(PATH_TRAIN+\"/FEMALE\")[3])\n",
    "infected_sample = cv2.imread(PATH_TRAIN+\"/MALE/\"+os.listdir(PATH_TRAIN+\"/MALE\")[2])\n",
    "\n",
    "plt.imshow(normal_sample)\n",
    "plt.title(\"FEMALE\")\n",
    "plt.show()\n",
    "\n",
    "plt.imshow(infected_sample)\n",
    "plt.title(\"MALE\")\n",
    "plt.show()"
   ]
  },
  {
   "cell_type": "markdown",
   "metadata": {
    "colab_type": "text",
    "id": "EPyyju3b26XY"
   },
   "source": [
    "The difference can be seen with different visualizations below"
   ]
  },
  {
   "cell_type": "code",
   "execution_count": null,
   "metadata": {
    "colab": {
     "base_uri": "https://localhost:8080/",
     "height": 1000
    },
    "colab_type": "code",
    "id": "P76BSNmx2ASA",
    "outputId": "ff0f4af5-bdf1-4ba4-def1-15f56cb0755c"
   },
   "outputs": [],
   "source": [
    "from skimage import io\n",
    "import matplotlib.pyplot as plt\n",
    "\n",
    "plt.imshow(normal_sample)\n",
    "plt.title(\"FEMALE\")\n",
    "plt.show()\n",
    "\n",
    "image = io.imread(PATH_TRAIN+\"/FEMALE/\"+os.listdir(PATH_TRAIN+\"/FEMALE\")[3])\n",
    "ax = plt.hist(image.ravel(), bins = 256)\n",
    "plt.xlabel('Intensity Value')\n",
    "plt.ylabel('Frequency')\n",
    "plt.show()\n",
    "\n",
    "plt.imshow(infected_sample)\n",
    "plt.title(\"MALE\")\n",
    "plt.show()\n",
    "\n",
    "image = io.imread(PATH_TRAIN+\"/MALE/\"+os.listdir(PATH_TRAIN+\"/MALE\")[2])\n",
    "ax = plt.hist(image.ravel(), bins = 256)\n",
    "plt.xlabel('Intensity Value')\n",
    "plt.ylabel('Frequency')\n",
    "plt.show()"
   ]
  },
  {
   "cell_type": "markdown",
   "metadata": {
    "colab_type": "text",
    "id": "NSL-YrE3cHC0"
   },
   "source": [
    "####**Initializing the data loader** "
   ]
  },
  {
   "cell_type": "markdown",
   "metadata": {
    "colab_type": "text",
    "id": "ocMttMCk2_G6"
   },
   "source": [
    "vgg16 pre-trained models expect input images normalized in the same way, i.e. mini-batches of 3-channel RGB images of shape (3 x H x W), where H and W are expected to be at least 224.<br />\n",
    "The images have to be loaded in to a range of [0, 1] and then normalized using:\n",
    " #### mean = [0.485, 0.456, 0.406] and std = [0.229, 0.224, 0.225] <br />\n",
    " \n",
    " We are applying augmentation like random rotation , horizontal and vertical flips to make sre the model doesn't overfit or learn the wrong features\n",
    " "
   ]
  },
  {
   "cell_type": "code",
   "execution_count": 4,
   "metadata": {
    "colab": {},
    "colab_type": "code",
    "id": "5Ro55AsGYF8v",
    "scrolled": true
   },
   "outputs": [],
   "source": [
    "import torch\n",
    "import torch.nn as nn\n",
    "import torch.nn.functional as F\n",
    "import os\n",
    "import time\n",
    "import torchvision\n",
    "from PIL import ImageFile\n",
    "import matplotlib.pyplot as plt\n",
    "import cv2\n",
    "# ghf\n",
    "ImageFile.LOAD_TRUNCATED_IMAGES = True # To prevent error during loading broken images\n",
    "\n",
    "PATH_TRAIN =  os.path.join(img_dir, 'TRAIN')\n",
    "PATH_TEST = os.path.join(img_dir, 'TEST')\n",
    "\n",
    "# NOW TEST is a validation set.\n",
    "EPOCHS = 500\n",
    "BATCH_SIZE = 32\n",
    "TOTAL_SIZE = len(os.listdir(PATH_TRAIN + \"/FEMALE\")) + len(\n",
    "    os.listdir(PATH_TRAIN + \"/MALE\")\n",
    ")\n",
    "TOTAL_TEST_SIZE = len(os.listdir(PATH_TEST + \"/FEMALE\")) + len(\n",
    "    os.listdir(PATH_TEST + \"/MALE\")\n",
    ")\n",
    "STEPS_PER_EPOCH = TOTAL_SIZE // BATCH_SIZE\n",
    "STEPS_PER_TEST_EPOCH = TOTAL_TEST_SIZE // BATCH_SIZE\n",
    "IMAGE_H, IMAGE_W = 224, 224\n",
    "\n",
    "print(TOTAL_SIZE , TOTAL_TEST_SIZE)"
   ]
  },
  {
   "cell_type": "code",
   "execution_count": null,
   "metadata": {
    "colab": {},
    "colab_type": "code",
    "id": "6DNcfdFSckFP"
   },
   "outputs": [],
   "source": [
    "\n",
    "from torchvision.transforms import transforms\n",
    "\n",
    "transform = transforms.Compose([\n",
    "    transforms.Resize([224, 224]),                  # 将输入图片resize成统一尺寸\n",
    "    transforms.RandomRotation(degrees=(-10, 10)),   # 随机旋转，-10到10度之间随机选\n",
    "    transforms.RandomHorizontalFlip(p=0.5),         # 随机水平翻转 选择一个概率概率\n",
    "    transforms.RandomVerticalFlip(p=0.5),           # 随机垂直翻转\n",
    "    transforms.RandomPerspective(distortion_scale=0.6, p=1.0),    # 随机视角\n",
    "    transforms.GaussianBlur(kernel_size=(5, 9), sigma=(0.1, 5)),  # 随机选择的高斯模糊模糊图像\n",
    "    transforms.ToTensor(),          # 将PIL Image或numpy.ndarray转换为tensor，并归一化到[0,1]之间\n",
    "    transforms.Normalize(           # 标准化处理-->转换为标准正太分布（高斯分布），使模型更容易收敛\n",
    "        mean=[0.485, 0.456, 0.406], \n",
    "        std = [0.229, 0.224, 0.225])  # 其中 mean=[0.485,0.456,0.406]与std=[0.229,0.224,0.225] 从数据集中随机抽样计算得到的。\n",
    "])\n",
    "\n",
    "\n",
    "# Intitalizing the train data loader and applying the transformations\n",
    "\n",
    "train_dataset = torchvision.datasets.ImageFolder(root=PATH_TRAIN, transform=transform)\n",
    "\n",
    "train_loader = torch.utils.data.DataLoader(\n",
    "    train_dataset, batch_size=BATCH_SIZE, num_workers=1, shuffle=True\n",
    ")\n",
    "\n",
    "# Intitalizing the test data loader\n",
    "\n",
    "test_dataset = torchvision.datasets.ImageFolder(\n",
    "    root=PATH_TEST, transform=transform\n",
    ")\n",
    "\n",
    "test_loader = torch.utils.data.DataLoader(\n",
    "    test_dataset, batch_size=BATCH_SIZE, num_workers=1, shuffle=True\n",
    ")"
   ]
  },
  {
   "cell_type": "code",
   "execution_count": 7,
   "metadata": {},
   "outputs": [],
   "source": [
    "from torchvision.models.efficientnet import EfficientNet_V2_S_Weights\n",
    "\n",
    "\n",
    "model_ft = torchvision.models.efficientnet_v2_s(weights=EfficientNet_V2_S_Weights.DEFAULT,\n",
    "                                                progress=True)  # Initializing weight\n",
    "\n",
    "# fggffg"
   ]
  },
  {
   "cell_type": "code",
   "execution_count": 9,
   "metadata": {},
   "outputs": [],
   "source": [
    "#  Arguments other than a weight enum or `None` for 'weights' are deprecated since 0.13 \n",
    "#     and may be removed in the future. \n",
    "# The current behavior is equivalent to passing `weights=EfficientNet_V2_S_Weights.IMAGENET1K_V1`. \n",
    "# You can also use `weights=EfficientNet_V2_S_Weights.DEFAULT` to get the most up-to-date weights.\n",
    "\n",
    "\n",
    "num_ftrs = model_ft.classifier[1].in_features # Getting last layer's output features\n",
    "\n",
    "model_ft.classifier[1] = nn.Linear(num_ftrs, 2) # Modify the last layer to output 2 classes"
   ]
  },
  {
   "cell_type": "markdown",
   "metadata": {
    "colab_type": "text",
    "id": "AX_UoSSKdNWH"
   },
   "source": [
    "## **Initializing optimizers and loss function** <br/>\n",
    "We will also specify the learning rate of the optimiser, here in this case it is set at 0.0001. If our training is bouncing a lot on epochs then we need to decrease the learning rate so that we can reach global minima."
   ]
  },
  {
   "cell_type": "code",
   "execution_count": 10,
   "metadata": {
    "colab": {},
    "colab_type": "code",
    "id": "fHp99BjkdaUT"
   },
   "outputs": [],
   "source": [
    "device = torch.device(\"cuda:0\" if torch.cuda.is_available() else \"cpu\")\n",
    "model_ft.to(device)  # Sending model to device\n",
    "criterion = nn.CrossEntropyLoss()\n",
    "optimizer = torch.optim.Adam(\n",
    "    model_ft.parameters(), lr=0.000001\n",
    ")  # lr should be kept low so that the pre-trained weights don't change easily"
   ]
  },
  {
   "cell_type": "markdown",
   "metadata": {
    "colab_type": "text",
    "id": "AtqxKSkrhsui"
   },
   "source": [
    "####**TESTING THE MODEL** "
   ]
  },
  {
   "cell_type": "code",
   "execution_count": 11,
   "metadata": {
    "colab": {},
    "colab_type": "code",
    "id": "OuX_nf-uhsEd"
   },
   "outputs": [],
   "source": [
    "def get_test():\n",
    "    test_loss = []\n",
    "    correct = 0\n",
    "    incorrect = 0\n",
    "\n",
    "    device = torch.device(\"cuda:0\" if torch.cuda.is_available() else \"cpu\")\n",
    "\n",
    "    for batch_idx, (data, target) in enumerate(test_loader):\n",
    "        if batch_idx == STEPS_PER_TEST_EPOCH:\n",
    "            break\n",
    "\n",
    "        # Model is used to predict the test data so we are switching off the gradient\n",
    "\n",
    "        with torch.no_grad():\n",
    "\n",
    "            data = data.to(device)\n",
    "            target = target.long().to(device)\n",
    "            output = model_ft(data)\n",
    "            criterion = nn.CrossEntropyLoss()\n",
    "            loss = criterion(output, target)\n",
    "\n",
    "            # Note that optimizer is not used because the model shouldn't learn the test dataset\n",
    "\n",
    "            for i in range(BATCH_SIZE):\n",
    "                a = []\n",
    "                for j in output[i]:\n",
    "                    a.append(float(j.detach()))\n",
    "\n",
    "                pred = a.index(max(a))\n",
    "\n",
    "                if pred == int(target[i]):\n",
    "                    correct = correct + 1\n",
    "\n",
    "                else:\n",
    "                    incorrect = incorrect + 1\n",
    "\n",
    "        test_loss.append(float(loss.detach()))\n",
    "    print(\"CORRECT: \" + str(correct), \"INCORRECT: \" + str(incorrect),\"TEST ACCURACY: \"+str(correct/(correct+incorrect)))\n",
    "    return (\n",
    "            correct/(incorrect+correct),\n",
    "            sum(test_loss)/len(test_loss),\n",
    "    )\n",
    "\n",
    "\n",
    "\n"
   ]
  },
  {
   "cell_type": "code",
   "execution_count": 12,
   "metadata": {
    "colab": {
     "base_uri": "https://localhost:8080/",
     "height": 69
    },
    "colab_type": "code",
    "id": "vYDLm1OJ3wNW",
    "outputId": "50419e05-d562-4815-8d45-300f292875c0"
   },
   "outputs": [
    {
     "name": "stdout",
     "output_type": "stream",
     "text": [
      "CORRECT: 42 INCORRECT: 54 TEST ACCURACY: 0.4375\n",
      "ACCURACY AND LOSS BEFORE TUNING\n",
      "ACCURACY : 0.4375 LOSS : 0.740541915098826\n"
     ]
    }
   ],
   "source": [
    "acc_ , loss_ = get_test()\n",
    "print(\"ACCURACY AND LOSS BEFORE TUNING\")\n",
    "print(\"ACCURACY : \"+str(acc_),\"LOSS : \"+str(loss_))"
   ]
  },
  {
   "cell_type": "markdown",
   "metadata": {
    "colab_type": "text",
    "id": "s3B-9DuF3dz3"
   },
   "source": [
    "####**TUNING THE MODEL (TRAINING)** "
   ]
  },
  {
   "cell_type": "code",
   "execution_count": null,
   "metadata": {
    "colab": {
     "base_uri": "https://localhost:8080/",
     "height": 1000
    },
    "colab_type": "code",
    "id": "mmXUZqg13eQu",
    "outputId": "591300ce-3a2f-458a-d5bf-4a99046715e3",
    "scrolled": true
   },
   "outputs": [],
   "source": [
    "avg_test_loss_history = []\n",
    "avg_test_accuracy_history = []\n",
    "avg_train_loss_history = []\n",
    "avg_train_accuracy_history = []\n",
    "\n",
    "loss_history = []\n",
    "accuracy_history = []\n",
    "\n",
    "new_best = 0\n",
    "\n",
    "for i in range(EPOCHS):\n",
    "\n",
    "    start = time.time()\n",
    "    print(\n",
    "        \"-----------------------EPOCH \"\n",
    "        + str(i)\n",
    "        + \" -----------------------------------\"\n",
    "    )\n",
    "    for batch_idx, (data, target) in enumerate(train_loader):\n",
    "        if batch_idx == STEPS_PER_EPOCH:\n",
    "            break\n",
    "        optimizer.zero_grad()  # Resetting gradients after each optimizations\n",
    "        # Sending input , target to device\n",
    "        data = data.to(device) \n",
    "        target = target.to(device)\n",
    "        output = model_ft(data)\n",
    "        loss = criterion(output, target.reshape((BATCH_SIZE,)).long())\n",
    "        loss_history.append(loss.detach())\n",
    "        # The loss variable has gradient attached to it so we are removing it so that it can be used to plot graphs\n",
    "        loss.backward()\n",
    "        optimizer.step()  # Optimizing the model\n",
    "\n",
    "        # Checking train accuracy\n",
    "\n",
    "        correct = 0\n",
    "        incorrect = 0\n",
    "        for p in range(BATCH_SIZE):\n",
    "            a = []\n",
    "            for j in output[p]:\n",
    "                a.append(float(j.detach()))\n",
    "\n",
    "            pred = a.index(max(a))\n",
    "\n",
    "            if pred == int(target[p]):\n",
    "                correct = correct + 1\n",
    "\n",
    "            else:\n",
    "\n",
    "                incorrect = incorrect + 1\n",
    "\n",
    "        print(\n",
    "            \"\\r EPOCH \"\n",
    "            + str(i)\n",
    "            + \" MINIBATCH: \"\n",
    "            + str(batch_idx)\n",
    "            + \"/\"\n",
    "            + str(STEPS_PER_EPOCH)\n",
    "            + \" LOSS: \"\n",
    "            + str(loss_history[-1]),\n",
    "            end = \"\"\n",
    "            \n",
    "        )\n",
    "        \n",
    "        accuracy_history.append(correct/(correct+incorrect))\n",
    "\n",
    "    end = time.time()\n",
    "    print(\n",
    "        \" \\n EPOCH \"\n",
    "        + str(i)\n",
    "        + \" LOSS \"\n",
    "        + str(sum(loss_history[-STEPS_PER_EPOCH:]) / STEPS_PER_EPOCH)\n",
    "        + \" ETA: \"\n",
    "        + str(end - start)\n",
    "        + \" \\n MAX LOSS: \"\n",
    "        + str(max(loss_history[-STEPS_PER_EPOCH:]))\n",
    "        + \" MIN LOSS: \"\n",
    "        + str(min(loss_history[-STEPS_PER_EPOCH:]))\n",
    "        + \" TRAIN ACCURACY: \"\n",
    "        + str(sum(accuracy_history[-STEPS_PER_EPOCH:]) / STEPS_PER_EPOCH)\n",
    "    )\n",
    "    \n",
    "    avg_train_loss_history.append(sum(loss_history[-STEPS_PER_EPOCH:]) / STEPS_PER_EPOCH)\n",
    "    avg_train_accuracy_history.append(sum(accuracy_history[-STEPS_PER_EPOCH:]) / STEPS_PER_EPOCH)\n",
    "    \n",
    "    test_acc , test_loss  = get_test()\n",
    "    \n",
    "    avg_test_accuracy_history.append(test_acc)\n",
    "    avg_train_loss_history.append(test_loss)\n",
    "    \n",
    "    if test_acc>new_best: \n",
    "        new_best = test_acc\n",
    "        torch.save(model_ft.state_dict(), \"_lr0.0001_efficient.pth\") # Saving our best model\n",
    "\n"
   ]
  },
  {
   "cell_type": "markdown",
   "metadata": {
    "colab_type": "text",
    "id": "HKPtR_KE4Ps7"
   },
   "source": [
    "#### Plotting the accuracy produced by model during training"
   ]
  },
  {
   "cell_type": "code",
   "execution_count": 14,
   "metadata": {
    "colab": {
     "base_uri": "https://localhost:8080/",
     "height": 312
    },
    "colab_type": "code",
    "id": "dFDkHDCT4TAL",
    "outputId": "7864bd8c-7dd8-47bc-ec4c-aaa4e7ce1cba"
   },
   "outputs": [
    {
     "data": {
      "text/plain": [
       "<matplotlib.legend.Legend at 0x7f1cb8f717c0>"
      ]
     },
     "execution_count": 14,
     "metadata": {},
     "output_type": "execute_result"
    },
    {
     "data": {
      "image/png": "[encoded data removed]",
      "text/plain": [
       "<Figure size 640x480 with 1 Axes>"
      ]
     },
     "metadata": {},
     "output_type": "display_data"
    }
   ],
   "source": [
    "plt.plot(avg_train_accuracy_history , label = \"Train\")\n",
    "plt.plot(avg_test_accuracy_history , label = \"Test\")\n",
    "plt.title('ACCURACY PER EPOCH')\n",
    "plt.xlabel(\"EPOCHS\")\n",
    "plt.ylabel(\"ACCURACY\")\n",
    "plt.legend(loc=\"upper left\")\n"
   ]
  },
  {
   "cell_type": "code",
   "execution_count": null,
   "metadata": {},
   "outputs": [],
   "source": []
  },
  {
   "cell_type": "code",
   "execution_count": null,
   "metadata": {},
   "outputs": [],
   "source": []
  }
 ],
 "metadata": {
  "accelerator": "GPU",
  "colab": {
   "collapsed_sections": [],
   "name": "CoronaHack-Finetuning resnet18-pytorch",
   "provenance": []
  },
  "kernelspec": {
   "display_name": "Python [conda env:lipa] *",
   "language": "python",
   "name": "conda-env-lipa-py"
  },
  "language_info": {
   "codemirror_mode": {
    "name": "ipython",
    "version": 3
   },
   "file_extension": ".py",
   "mimetype": "text/x-python",
   "name": "python",
   "nbconvert_exporter": "python",
   "pygments_lexer": "ipython3",
   "version": "3.8.5"
  },
  "widgets": {
   "application/vnd.jupyter.widget-state+json": {
    "1bd8b7b49e504a9ca053baeb7594f06d": {
     "model_module": "@jupyter-widgets/controls",
     "model_name": "HTMLModel",
     "state": {
      "_dom_classes": [],
      "_model_module": "@jupyter-widgets/controls",
      "_model_module_version": "1.5.0",
      "_model_name": "HTMLModel",
      "_view_count": null,
      "_view_module": "@jupyter-widgets/controls",
      "_view_module_version": "1.5.0",
      "_view_name": "HTMLView",
      "description": "",
      "description_tooltip": null,
      "layout": "IPY_MODEL_aaeb9e078fc246f5ad960e8c30c53575",
      "placeholder": "​",
      "style": "IPY_MODEL_85381b86e8c942e29da96d5fee71f575",
      "value": " 44.7M/44.7M [00:00&lt;00:00, 99.4MB/s]"
     }
    },
    "46c0854266564a7ba039b6a83dbcdceb": {
     "model_module": "@jupyter-widgets/controls",
     "model_name": "ProgressStyleModel",
     "state": {
      "_model_module": "@jupyter-widgets/controls",
      "_model_module_version": "1.5.0",
      "_model_name": "ProgressStyleModel",
      "_view_count": null,
      "_view_module": "@jupyter-widgets/base",
      "_view_module_version": "1.2.0",
      "_view_name": "StyleView",
      "bar_color": null,
      "description_width": "initial"
     }
    },
    "6f5ea8315353459692dd4a267f087d3b": {
     "model_module": "@jupyter-widgets/controls",
     "model_name": "HBoxModel",
     "state": {
      "_dom_classes": [],
      "_model_module": "@jupyter-widgets/controls",
      "_model_module_version": "1.5.0",
      "_model_name": "HBoxModel",
      "_view_count": null,
      "_view_module": "@jupyter-widgets/controls",
      "_view_module_version": "1.5.0",
      "_view_name": "HBoxView",
      "box_style": "",
      "children": [
       "IPY_MODEL_b42bfe83cc7447649b86a471667185a9",
       "IPY_MODEL_1bd8b7b49e504a9ca053baeb7594f06d"
      ],
      "layout": "IPY_MODEL_fa233e76af8745a3a02a8ae644ddbb07"
     }
    },
    "85381b86e8c942e29da96d5fee71f575": {
     "model_module": "@jupyter-widgets/controls",
     "model_name": "DescriptionStyleModel",
     "state": {
      "_model_module": "@jupyter-widgets/controls",
      "_model_module_version": "1.5.0",
      "_model_name": "DescriptionStyleModel",
      "_view_count": null,
      "_view_module": "@jupyter-widgets/base",
      "_view_module_version": "1.2.0",
      "_view_name": "StyleView",
      "description_width": ""
     }
    },
    "a49e42ef23394a38aa7304c582d822e1": {
     "model_module": "@jupyter-widgets/base",
     "model_name": "LayoutModel",
     "state": {
      "_model_module": "@jupyter-widgets/base",
      "_model_module_version": "1.2.0",
      "_model_name": "LayoutModel",
      "_view_count": null,
      "_view_module": "@jupyter-widgets/base",
      "_view_module_version": "1.2.0",
      "_view_name": "LayoutView",
      "align_content": null,
      "align_items": null,
      "align_self": null,
      "border": null,
      "bottom": null,
      "display": null,
      "flex": null,
      "flex_flow": null,
      "grid_area": null,
      "grid_auto_columns": null,
      "grid_auto_flow": null,
      "grid_auto_rows": null,
      "grid_column": null,
      "grid_gap": null,
      "grid_row": null,
      "grid_template_areas": null,
      "grid_template_columns": null,
      "grid_template_rows": null,
      "height": null,
      "justify_content": null,
      "justify_items": null,
      "left": null,
      "margin": null,
      "max_height": null,
      "max_width": null,
      "min_height": null,
      "min_width": null,
      "object_fit": null,
      "object_position": null,
      "order": null,
      "overflow": null,
      "overflow_x": null,
      "overflow_y": null,
      "padding": null,
      "right": null,
      "top": null,
      "visibility": null,
      "width": null
     }
    },
    "aaeb9e078fc246f5ad960e8c30c53575": {
     "model_module": "@jupyter-widgets/base",
     "model_name": "LayoutModel",
     "state": {
      "_model_module": "@jupyter-widgets/base",
      "_model_module_version": "1.2.0",
      "_model_name": "LayoutModel",
      "_view_count": null,
      "_view_module": "@jupyter-widgets/base",
      "_view_module_version": "1.2.0",
      "_view_name": "LayoutView",
      "align_content": null,
      "align_items": null,
      "align_self": null,
      "border": null,
      "bottom": null,
      "display": null,
      "flex": null,
      "flex_flow": null,
      "grid_area": null,
      "grid_auto_columns": null,
      "grid_auto_flow": null,
      "grid_auto_rows": null,
      "grid_column": null,
      "grid_gap": null,
      "grid_row": null,
      "grid_template_areas": null,
      "grid_template_columns": null,
      "grid_template_rows": null,
      "height": null,
      "justify_content": null,
      "justify_items": null,
      "left": null,
      "margin": null,
      "max_height": null,
      "max_width": null,
      "min_height": null,
      "min_width": null,
      "object_fit": null,
      "object_position": null,
      "order": null,
      "overflow": null,
      "overflow_x": null,
      "overflow_y": null,
      "padding": null,
      "right": null,
      "top": null,
      "visibility": null,
      "width": null
     }
    },
    "b42bfe83cc7447649b86a471667185a9": {
     "model_module": "@jupyter-widgets/controls",
     "model_name": "IntProgressModel",
     "state": {
      "_dom_classes": [],
      "_model_module": "@jupyter-widgets/controls",
      "_model_module_version": "1.5.0",
      "_model_name": "IntProgressModel",
      "_view_count": null,
      "_view_module": "@jupyter-widgets/controls",
      "_view_module_version": "1.5.0",
      "_view_name": "ProgressView",
      "bar_style": "success",
      "description": "100%",
      "description_tooltip": null,
      "layout": "IPY_MODEL_a49e42ef23394a38aa7304c582d822e1",
      "max": 46827520,
      "min": 0,
      "orientation": "horizontal",
      "style": "IPY_MODEL_46c0854266564a7ba039b6a83dbcdceb",
      "value": 46827520
     }
    },
    "fa233e76af8745a3a02a8ae644ddbb07": {
     "model_module": "@jupyter-widgets/base",
     "model_name": "LayoutModel",
     "state": {
      "_model_module": "@jupyter-widgets/base",
      "_model_module_version": "1.2.0",
      "_model_name": "LayoutModel",
      "_view_count": null,
      "_view_module": "@jupyter-widgets/base",
      "_view_module_version": "1.2.0",
      "_view_name": "LayoutView",
      "align_content": null,
      "align_items": null,
      "align_self": null,
      "border": null,
      "bottom": null,
      "display": null,
      "flex": null,
      "flex_flow": null,
      "grid_area": null,
      "grid_auto_columns": null,
      "grid_auto_flow": null,
      "grid_auto_rows": null,
      "grid_column": null,
      "grid_gap": null,
      "grid_row": null,
      "grid_template_areas": null,
      "grid_template_columns": null,
      "grid_template_rows": null,
      "height": null,
      "justify_content": null,
      "justify_items": null,
      "left": null,
      "margin": null,
      "max_height": null,
      "max_width": null,
      "min_height": null,
      "min_width": null,
      "object_fit": null,
      "object_position": null,
      "order": null,
      "overflow": null,
      "overflow_x": null,
      "overflow_y": null,
      "padding": null,
      "right": null,
      "top": null,
      "visibility": null,
      "width": null
     }
    }
   }
  }
 },
 "nbformat": 4,
 "nbformat_minor": 1
}
